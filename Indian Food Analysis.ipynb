{
 "cells": [
  {
   "cell_type": "markdown",
   "metadata": {},
   "source": [
    "# Project Title - Indian Food Analysis\n"
   ]
  },
  {
   "cell_type": "code",
   "execution_count": 1,
   "metadata": {},
   "outputs": [],
   "source": [
    "!pip install jovian opendatasets --upgrade --quiet"
   ]
  },
  {
   "cell_type": "markdown",
   "metadata": {},
   "source": [
    "Let's begin by downloading the data, and listing the files within the dataset."
   ]
  },
  {
   "cell_type": "code",
   "execution_count": 2,
   "metadata": {},
   "outputs": [],
   "source": [
    "# Change this\n",
    "dataset_url = 'https://www.kaggle.com/nehaprabhavalkar/indian-food-101/download' "
   ]
  },
  {
   "cell_type": "code",
   "execution_count": 3,
   "metadata": {},
   "outputs": [
    {
     "name": "stdout",
     "output_type": "stream",
     "text": [
      "Please provide your Kaggle credentials to download this dataset. Learn more: http://bit.ly/kaggle-creds\n",
      "Your Kaggle username: naren951\n",
      "Your Kaggle Key: ········\n"
     ]
    },
    {
     "name": "stderr",
     "output_type": "stream",
     "text": [
      "100%|██████████| 6.79k/6.79k [00:00<00:00, 118kB/s]"
     ]
    },
    {
     "name": "stdout",
     "output_type": "stream",
     "text": [
      "Downloading indian-food-101.zip to ./indian-food-101\n",
      "\n"
     ]
    },
    {
     "name": "stderr",
     "output_type": "stream",
     "text": [
      "\n"
     ]
    }
   ],
   "source": [
    "import opendatasets as od\n",
    "od.download(dataset_url)"
   ]
  },
  {
   "cell_type": "markdown",
   "metadata": {},
   "source": [
    "The dataset has been downloaded and extracted."
   ]
  },
  {
   "cell_type": "code",
   "execution_count": 4,
   "metadata": {},
   "outputs": [],
   "source": [
    "# Change this\n",
    "data_dir = './indian-food-101'"
   ]
  },
  {
   "cell_type": "code",
   "execution_count": 5,
   "metadata": {},
   "outputs": [
    {
     "data": {
      "text/plain": [
       "['indian_food.csv']"
      ]
     },
     "execution_count": 5,
     "metadata": {},
     "output_type": "execute_result"
    }
   ],
   "source": [
    "import os\n",
    "os.listdir(data_dir)"
   ]
  },
  {
   "cell_type": "markdown",
   "metadata": {},
   "source": [
    "Let us save and upload our work to Jovian before continuing."
   ]
  },
  {
   "cell_type": "code",
   "execution_count": 6,
   "metadata": {},
   "outputs": [],
   "source": [
    "project_name = \"indian-food-analysis\" "
   ]
  },
  {
   "cell_type": "code",
   "execution_count": 7,
   "metadata": {},
   "outputs": [],
   "source": [
    "!pip install jovian --upgrade -q"
   ]
  },
  {
   "cell_type": "code",
   "execution_count": 8,
   "metadata": {},
   "outputs": [],
   "source": [
    "import jovian"
   ]
  },
  {
   "cell_type": "code",
   "execution_count": 9,
   "metadata": {},
   "outputs": [
    {
     "data": {
      "application/javascript": [
       "window.require && require([\"base/js/namespace\"],function(Jupyter){Jupyter.notebook.save_checkpoint()})"
      ],
      "text/plain": [
       "<IPython.core.display.Javascript object>"
      ]
     },
     "metadata": {},
     "output_type": "display_data"
    },
    {
     "name": "stdout",
     "output_type": "stream",
     "text": [
      "[jovian] Attempting to save notebook..\u001b[0m\n",
      "[jovian] Updating notebook \"narendiran-work/indian-food-analysis\" on https://jovian.ml/\u001b[0m\n",
      "[jovian] Uploading notebook..\u001b[0m\n",
      "[jovian] Capturing environment..\u001b[0m\n",
      "[jovian] Committed successfully! https://jovian.ml/narendiran-work/indian-food-analysis\u001b[0m\n"
     ]
    },
    {
     "data": {
      "text/plain": [
       "'https://jovian.ml/narendiran-work/indian-food-analysis'"
      ]
     },
     "execution_count": 9,
     "metadata": {},
     "output_type": "execute_result"
    }
   ],
   "source": [
    "jovian.commit(project=project_name)"
   ]
  },
  {
   "cell_type": "markdown",
   "metadata": {},
   "source": [
    "## Data Preparation and Cleaning\n",
    "\n",
    "**TODO** - Write some explanation here.\n",
    "\n"
   ]
  },
  {
   "cell_type": "markdown",
   "metadata": {},
   "source": [
    "> Instructions (delete this cell):\n",
    ">\n",
    "> - Load the dataset into a data frame using Pandas\n",
    "> - Explore the number of rows & columns, ranges of values etc.\n",
    "> - Handle missing, incorrect and invalid data\n",
    "> - Perform any additional steps (parsing dates, creating additional columns, merging multiple dataset etc.)"
   ]
  },
  {
   "cell_type": "code",
   "execution_count": 10,
   "metadata": {},
   "outputs": [],
   "source": [
    "import pandas as pd\n",
    "import numpy as np"
   ]
  },
  {
   "cell_type": "code",
   "execution_count": 11,
   "metadata": {},
   "outputs": [
    {
     "data": {
      "text/html": [
       "<div>\n",
       "<style scoped>\n",
       "    .dataframe tbody tr th:only-of-type {\n",
       "        vertical-align: middle;\n",
       "    }\n",
       "\n",
       "    .dataframe tbody tr th {\n",
       "        vertical-align: top;\n",
       "    }\n",
       "\n",
       "    .dataframe thead th {\n",
       "        text-align: right;\n",
       "    }\n",
       "</style>\n",
       "<table border=\"1\" class=\"dataframe\">\n",
       "  <thead>\n",
       "    <tr style=\"text-align: right;\">\n",
       "      <th></th>\n",
       "      <th>name</th>\n",
       "      <th>ingredients</th>\n",
       "      <th>diet</th>\n",
       "      <th>prep_time</th>\n",
       "      <th>cook_time</th>\n",
       "      <th>flavor_profile</th>\n",
       "      <th>course</th>\n",
       "      <th>state</th>\n",
       "      <th>region</th>\n",
       "    </tr>\n",
       "  </thead>\n",
       "  <tbody>\n",
       "    <tr>\n",
       "      <th>0</th>\n",
       "      <td>Balu shahi</td>\n",
       "      <td>Maida flour, yogurt, oil, sugar</td>\n",
       "      <td>vegetarian</td>\n",
       "      <td>45</td>\n",
       "      <td>25</td>\n",
       "      <td>sweet</td>\n",
       "      <td>dessert</td>\n",
       "      <td>West Bengal</td>\n",
       "      <td>East</td>\n",
       "    </tr>\n",
       "    <tr>\n",
       "      <th>1</th>\n",
       "      <td>Boondi</td>\n",
       "      <td>Gram flour, ghee, sugar</td>\n",
       "      <td>vegetarian</td>\n",
       "      <td>80</td>\n",
       "      <td>30</td>\n",
       "      <td>sweet</td>\n",
       "      <td>dessert</td>\n",
       "      <td>Rajasthan</td>\n",
       "      <td>West</td>\n",
       "    </tr>\n",
       "    <tr>\n",
       "      <th>2</th>\n",
       "      <td>Gajar ka halwa</td>\n",
       "      <td>Carrots, milk, sugar, ghee, cashews, raisins</td>\n",
       "      <td>vegetarian</td>\n",
       "      <td>15</td>\n",
       "      <td>60</td>\n",
       "      <td>sweet</td>\n",
       "      <td>dessert</td>\n",
       "      <td>Punjab</td>\n",
       "      <td>North</td>\n",
       "    </tr>\n",
       "    <tr>\n",
       "      <th>3</th>\n",
       "      <td>Ghevar</td>\n",
       "      <td>Flour, ghee, kewra, milk, clarified butter, su...</td>\n",
       "      <td>vegetarian</td>\n",
       "      <td>15</td>\n",
       "      <td>30</td>\n",
       "      <td>sweet</td>\n",
       "      <td>dessert</td>\n",
       "      <td>Rajasthan</td>\n",
       "      <td>West</td>\n",
       "    </tr>\n",
       "    <tr>\n",
       "      <th>4</th>\n",
       "      <td>Gulab jamun</td>\n",
       "      <td>Milk powder, plain flour, baking powder, ghee,...</td>\n",
       "      <td>vegetarian</td>\n",
       "      <td>15</td>\n",
       "      <td>40</td>\n",
       "      <td>sweet</td>\n",
       "      <td>dessert</td>\n",
       "      <td>West Bengal</td>\n",
       "      <td>East</td>\n",
       "    </tr>\n",
       "    <tr>\n",
       "      <th>...</th>\n",
       "      <td>...</td>\n",
       "      <td>...</td>\n",
       "      <td>...</td>\n",
       "      <td>...</td>\n",
       "      <td>...</td>\n",
       "      <td>...</td>\n",
       "      <td>...</td>\n",
       "      <td>...</td>\n",
       "      <td>...</td>\n",
       "    </tr>\n",
       "    <tr>\n",
       "      <th>250</th>\n",
       "      <td>Til Pitha</td>\n",
       "      <td>Glutinous rice, black sesame seeds, gur</td>\n",
       "      <td>vegetarian</td>\n",
       "      <td>5</td>\n",
       "      <td>30</td>\n",
       "      <td>sweet</td>\n",
       "      <td>dessert</td>\n",
       "      <td>Assam</td>\n",
       "      <td>North East</td>\n",
       "    </tr>\n",
       "    <tr>\n",
       "      <th>251</th>\n",
       "      <td>Bebinca</td>\n",
       "      <td>Coconut milk, egg yolks, clarified butter, all...</td>\n",
       "      <td>vegetarian</td>\n",
       "      <td>20</td>\n",
       "      <td>60</td>\n",
       "      <td>sweet</td>\n",
       "      <td>dessert</td>\n",
       "      <td>Goa</td>\n",
       "      <td>West</td>\n",
       "    </tr>\n",
       "    <tr>\n",
       "      <th>252</th>\n",
       "      <td>Shufta</td>\n",
       "      <td>Cottage cheese, dry dates, dried rose petals, ...</td>\n",
       "      <td>vegetarian</td>\n",
       "      <td>-1</td>\n",
       "      <td>-1</td>\n",
       "      <td>sweet</td>\n",
       "      <td>dessert</td>\n",
       "      <td>Jammu &amp; Kashmir</td>\n",
       "      <td>North</td>\n",
       "    </tr>\n",
       "    <tr>\n",
       "      <th>253</th>\n",
       "      <td>Mawa Bati</td>\n",
       "      <td>Milk powder, dry fruits, arrowroot powder, all...</td>\n",
       "      <td>vegetarian</td>\n",
       "      <td>20</td>\n",
       "      <td>45</td>\n",
       "      <td>sweet</td>\n",
       "      <td>dessert</td>\n",
       "      <td>Madhya Pradesh</td>\n",
       "      <td>Central</td>\n",
       "    </tr>\n",
       "    <tr>\n",
       "      <th>254</th>\n",
       "      <td>Pinaca</td>\n",
       "      <td>Brown rice, fennel seeds, grated coconut, blac...</td>\n",
       "      <td>vegetarian</td>\n",
       "      <td>-1</td>\n",
       "      <td>-1</td>\n",
       "      <td>sweet</td>\n",
       "      <td>dessert</td>\n",
       "      <td>Goa</td>\n",
       "      <td>West</td>\n",
       "    </tr>\n",
       "  </tbody>\n",
       "</table>\n",
       "<p>255 rows × 9 columns</p>\n",
       "</div>"
      ],
      "text/plain": [
       "               name                                        ingredients  \\\n",
       "0        Balu shahi                    Maida flour, yogurt, oil, sugar   \n",
       "1            Boondi                            Gram flour, ghee, sugar   \n",
       "2    Gajar ka halwa       Carrots, milk, sugar, ghee, cashews, raisins   \n",
       "3            Ghevar  Flour, ghee, kewra, milk, clarified butter, su...   \n",
       "4       Gulab jamun  Milk powder, plain flour, baking powder, ghee,...   \n",
       "..              ...                                                ...   \n",
       "250       Til Pitha            Glutinous rice, black sesame seeds, gur   \n",
       "251         Bebinca  Coconut milk, egg yolks, clarified butter, all...   \n",
       "252          Shufta  Cottage cheese, dry dates, dried rose petals, ...   \n",
       "253       Mawa Bati  Milk powder, dry fruits, arrowroot powder, all...   \n",
       "254          Pinaca  Brown rice, fennel seeds, grated coconut, blac...   \n",
       "\n",
       "           diet  prep_time  cook_time flavor_profile   course  \\\n",
       "0    vegetarian         45         25          sweet  dessert   \n",
       "1    vegetarian         80         30          sweet  dessert   \n",
       "2    vegetarian         15         60          sweet  dessert   \n",
       "3    vegetarian         15         30          sweet  dessert   \n",
       "4    vegetarian         15         40          sweet  dessert   \n",
       "..          ...        ...        ...            ...      ...   \n",
       "250  vegetarian          5         30          sweet  dessert   \n",
       "251  vegetarian         20         60          sweet  dessert   \n",
       "252  vegetarian         -1         -1          sweet  dessert   \n",
       "253  vegetarian         20         45          sweet  dessert   \n",
       "254  vegetarian         -1         -1          sweet  dessert   \n",
       "\n",
       "               state      region  \n",
       "0        West Bengal        East  \n",
       "1          Rajasthan        West  \n",
       "2             Punjab       North  \n",
       "3          Rajasthan        West  \n",
       "4        West Bengal        East  \n",
       "..               ...         ...  \n",
       "250            Assam  North East  \n",
       "251              Goa        West  \n",
       "252  Jammu & Kashmir       North  \n",
       "253   Madhya Pradesh     Central  \n",
       "254              Goa        West  \n",
       "\n",
       "[255 rows x 9 columns]"
      ]
     },
     "execution_count": 11,
     "metadata": {},
     "output_type": "execute_result"
    }
   ],
   "source": [
    "df_food= pd.read_csv('indian-food-101/indian_food.csv')\n",
    "df_food"
   ]
  },
  {
   "cell_type": "code",
   "execution_count": 12,
   "metadata": {},
   "outputs": [
    {
     "name": "stdout",
     "output_type": "stream",
     "text": [
      "<class 'pandas.core.frame.DataFrame'>\n",
      "RangeIndex: 255 entries, 0 to 254\n",
      "Data columns (total 9 columns):\n",
      " #   Column          Non-Null Count  Dtype \n",
      "---  ------          --------------  ----- \n",
      " 0   name            255 non-null    object\n",
      " 1   ingredients     255 non-null    object\n",
      " 2   diet            255 non-null    object\n",
      " 3   prep_time       255 non-null    int64 \n",
      " 4   cook_time       255 non-null    int64 \n",
      " 5   flavor_profile  255 non-null    object\n",
      " 6   course          255 non-null    object\n",
      " 7   state           255 non-null    object\n",
      " 8   region          254 non-null    object\n",
      "dtypes: int64(2), object(7)\n",
      "memory usage: 18.1+ KB\n"
     ]
    }
   ],
   "source": [
    "df_food.info()"
   ]
  },
  {
   "cell_type": "code",
   "execution_count": 13,
   "metadata": {},
   "outputs": [
    {
     "data": {
      "text/html": [
       "<div>\n",
       "<style scoped>\n",
       "    .dataframe tbody tr th:only-of-type {\n",
       "        vertical-align: middle;\n",
       "    }\n",
       "\n",
       "    .dataframe tbody tr th {\n",
       "        vertical-align: top;\n",
       "    }\n",
       "\n",
       "    .dataframe thead th {\n",
       "        text-align: right;\n",
       "    }\n",
       "</style>\n",
       "<table border=\"1\" class=\"dataframe\">\n",
       "  <thead>\n",
       "    <tr style=\"text-align: right;\">\n",
       "      <th></th>\n",
       "      <th>prep_time</th>\n",
       "      <th>cook_time</th>\n",
       "    </tr>\n",
       "  </thead>\n",
       "  <tbody>\n",
       "    <tr>\n",
       "      <th>count</th>\n",
       "      <td>255.000000</td>\n",
       "      <td>255.000000</td>\n",
       "    </tr>\n",
       "    <tr>\n",
       "      <th>mean</th>\n",
       "      <td>31.105882</td>\n",
       "      <td>34.529412</td>\n",
       "    </tr>\n",
       "    <tr>\n",
       "      <th>std</th>\n",
       "      <td>72.554409</td>\n",
       "      <td>48.265650</td>\n",
       "    </tr>\n",
       "    <tr>\n",
       "      <th>min</th>\n",
       "      <td>-1.000000</td>\n",
       "      <td>-1.000000</td>\n",
       "    </tr>\n",
       "    <tr>\n",
       "      <th>25%</th>\n",
       "      <td>10.000000</td>\n",
       "      <td>20.000000</td>\n",
       "    </tr>\n",
       "    <tr>\n",
       "      <th>50%</th>\n",
       "      <td>10.000000</td>\n",
       "      <td>30.000000</td>\n",
       "    </tr>\n",
       "    <tr>\n",
       "      <th>75%</th>\n",
       "      <td>20.000000</td>\n",
       "      <td>40.000000</td>\n",
       "    </tr>\n",
       "    <tr>\n",
       "      <th>max</th>\n",
       "      <td>500.000000</td>\n",
       "      <td>720.000000</td>\n",
       "    </tr>\n",
       "  </tbody>\n",
       "</table>\n",
       "</div>"
      ],
      "text/plain": [
       "        prep_time   cook_time\n",
       "count  255.000000  255.000000\n",
       "mean    31.105882   34.529412\n",
       "std     72.554409   48.265650\n",
       "min     -1.000000   -1.000000\n",
       "25%     10.000000   20.000000\n",
       "50%     10.000000   30.000000\n",
       "75%     20.000000   40.000000\n",
       "max    500.000000  720.000000"
      ]
     },
     "execution_count": 13,
     "metadata": {},
     "output_type": "execute_result"
    }
   ],
   "source": [
    "df_food.describe()"
   ]
  },
  {
   "cell_type": "code",
   "execution_count": 14,
   "metadata": {},
   "outputs": [
    {
     "data": {
      "text/plain": [
       "Index(['name', 'ingredients', 'diet', 'prep_time', 'cook_time',\n",
       "       'flavor_profile', 'course', 'state', 'region'],\n",
       "      dtype='object')"
      ]
     },
     "execution_count": 14,
     "metadata": {},
     "output_type": "execute_result"
    }
   ],
   "source": [
    "df_food.columns"
   ]
  },
  {
   "cell_type": "code",
   "execution_count": 15,
   "metadata": {},
   "outputs": [
    {
     "data": {
      "text/plain": [
       "(255, 9)"
      ]
     },
     "execution_count": 15,
     "metadata": {},
     "output_type": "execute_result"
    }
   ],
   "source": [
    "df_food.shape"
   ]
  },
  {
   "cell_type": "code",
   "execution_count": 16,
   "metadata": {},
   "outputs": [
    {
     "data": {
      "text/html": [
       "<div>\n",
       "<style scoped>\n",
       "    .dataframe tbody tr th:only-of-type {\n",
       "        vertical-align: middle;\n",
       "    }\n",
       "\n",
       "    .dataframe tbody tr th {\n",
       "        vertical-align: top;\n",
       "    }\n",
       "\n",
       "    .dataframe thead th {\n",
       "        text-align: right;\n",
       "    }\n",
       "</style>\n",
       "<table border=\"1\" class=\"dataframe\">\n",
       "  <thead>\n",
       "    <tr style=\"text-align: right;\">\n",
       "      <th></th>\n",
       "      <th>name</th>\n",
       "      <th>ingredients</th>\n",
       "      <th>diet</th>\n",
       "      <th>prep_time</th>\n",
       "      <th>cook_time</th>\n",
       "      <th>flavor_profile</th>\n",
       "      <th>course</th>\n",
       "      <th>state</th>\n",
       "      <th>region</th>\n",
       "    </tr>\n",
       "  </thead>\n",
       "  <tbody>\n",
       "    <tr>\n",
       "      <th>0</th>\n",
       "      <td>Balu shahi</td>\n",
       "      <td>Maida flour, yogurt, oil, sugar</td>\n",
       "      <td>vegetarian</td>\n",
       "      <td>45</td>\n",
       "      <td>25</td>\n",
       "      <td>sweet</td>\n",
       "      <td>dessert</td>\n",
       "      <td>West Bengal</td>\n",
       "      <td>East</td>\n",
       "    </tr>\n",
       "    <tr>\n",
       "      <th>1</th>\n",
       "      <td>Boondi</td>\n",
       "      <td>Gram flour, ghee, sugar</td>\n",
       "      <td>vegetarian</td>\n",
       "      <td>80</td>\n",
       "      <td>30</td>\n",
       "      <td>sweet</td>\n",
       "      <td>dessert</td>\n",
       "      <td>Rajasthan</td>\n",
       "      <td>West</td>\n",
       "    </tr>\n",
       "    <tr>\n",
       "      <th>2</th>\n",
       "      <td>Gajar ka halwa</td>\n",
       "      <td>Carrots, milk, sugar, ghee, cashews, raisins</td>\n",
       "      <td>vegetarian</td>\n",
       "      <td>15</td>\n",
       "      <td>60</td>\n",
       "      <td>sweet</td>\n",
       "      <td>dessert</td>\n",
       "      <td>Punjab</td>\n",
       "      <td>North</td>\n",
       "    </tr>\n",
       "    <tr>\n",
       "      <th>3</th>\n",
       "      <td>Ghevar</td>\n",
       "      <td>Flour, ghee, kewra, milk, clarified butter, su...</td>\n",
       "      <td>vegetarian</td>\n",
       "      <td>15</td>\n",
       "      <td>30</td>\n",
       "      <td>sweet</td>\n",
       "      <td>dessert</td>\n",
       "      <td>Rajasthan</td>\n",
       "      <td>West</td>\n",
       "    </tr>\n",
       "    <tr>\n",
       "      <th>4</th>\n",
       "      <td>Gulab jamun</td>\n",
       "      <td>Milk powder, plain flour, baking powder, ghee,...</td>\n",
       "      <td>vegetarian</td>\n",
       "      <td>15</td>\n",
       "      <td>40</td>\n",
       "      <td>sweet</td>\n",
       "      <td>dessert</td>\n",
       "      <td>West Bengal</td>\n",
       "      <td>East</td>\n",
       "    </tr>\n",
       "    <tr>\n",
       "      <th>...</th>\n",
       "      <td>...</td>\n",
       "      <td>...</td>\n",
       "      <td>...</td>\n",
       "      <td>...</td>\n",
       "      <td>...</td>\n",
       "      <td>...</td>\n",
       "      <td>...</td>\n",
       "      <td>...</td>\n",
       "      <td>...</td>\n",
       "    </tr>\n",
       "    <tr>\n",
       "      <th>247</th>\n",
       "      <td>Prawn malai curry</td>\n",
       "      <td>Coconut milk, prawns, garlic, turmeric, sugar</td>\n",
       "      <td>non vegetarian</td>\n",
       "      <td>15</td>\n",
       "      <td>50</td>\n",
       "      <td>spicy</td>\n",
       "      <td>main course</td>\n",
       "      <td>West Bengal</td>\n",
       "      <td>East</td>\n",
       "    </tr>\n",
       "    <tr>\n",
       "      <th>249</th>\n",
       "      <td>Shukto</td>\n",
       "      <td>Green beans, bitter gourd, ridge gourd, banana...</td>\n",
       "      <td>vegetarian</td>\n",
       "      <td>10</td>\n",
       "      <td>20</td>\n",
       "      <td>spicy</td>\n",
       "      <td>main course</td>\n",
       "      <td>West Bengal</td>\n",
       "      <td>East</td>\n",
       "    </tr>\n",
       "    <tr>\n",
       "      <th>250</th>\n",
       "      <td>Til Pitha</td>\n",
       "      <td>Glutinous rice, black sesame seeds, gur</td>\n",
       "      <td>vegetarian</td>\n",
       "      <td>5</td>\n",
       "      <td>30</td>\n",
       "      <td>sweet</td>\n",
       "      <td>dessert</td>\n",
       "      <td>Assam</td>\n",
       "      <td>North East</td>\n",
       "    </tr>\n",
       "    <tr>\n",
       "      <th>251</th>\n",
       "      <td>Bebinca</td>\n",
       "      <td>Coconut milk, egg yolks, clarified butter, all...</td>\n",
       "      <td>vegetarian</td>\n",
       "      <td>20</td>\n",
       "      <td>60</td>\n",
       "      <td>sweet</td>\n",
       "      <td>dessert</td>\n",
       "      <td>Goa</td>\n",
       "      <td>West</td>\n",
       "    </tr>\n",
       "    <tr>\n",
       "      <th>253</th>\n",
       "      <td>Mawa Bati</td>\n",
       "      <td>Milk powder, dry fruits, arrowroot powder, all...</td>\n",
       "      <td>vegetarian</td>\n",
       "      <td>20</td>\n",
       "      <td>45</td>\n",
       "      <td>sweet</td>\n",
       "      <td>dessert</td>\n",
       "      <td>Madhya Pradesh</td>\n",
       "      <td>Central</td>\n",
       "    </tr>\n",
       "  </tbody>\n",
       "</table>\n",
       "<p>181 rows × 9 columns</p>\n",
       "</div>"
      ],
      "text/plain": [
       "                  name                                        ingredients  \\\n",
       "0           Balu shahi                    Maida flour, yogurt, oil, sugar   \n",
       "1               Boondi                            Gram flour, ghee, sugar   \n",
       "2       Gajar ka halwa       Carrots, milk, sugar, ghee, cashews, raisins   \n",
       "3               Ghevar  Flour, ghee, kewra, milk, clarified butter, su...   \n",
       "4          Gulab jamun  Milk powder, plain flour, baking powder, ghee,...   \n",
       "..                 ...                                                ...   \n",
       "247  Prawn malai curry      Coconut milk, prawns, garlic, turmeric, sugar   \n",
       "249             Shukto  Green beans, bitter gourd, ridge gourd, banana...   \n",
       "250          Til Pitha            Glutinous rice, black sesame seeds, gur   \n",
       "251            Bebinca  Coconut milk, egg yolks, clarified butter, all...   \n",
       "253          Mawa Bati  Milk powder, dry fruits, arrowroot powder, all...   \n",
       "\n",
       "               diet  prep_time  cook_time flavor_profile       course  \\\n",
       "0        vegetarian         45         25          sweet      dessert   \n",
       "1        vegetarian         80         30          sweet      dessert   \n",
       "2        vegetarian         15         60          sweet      dessert   \n",
       "3        vegetarian         15         30          sweet      dessert   \n",
       "4        vegetarian         15         40          sweet      dessert   \n",
       "..              ...        ...        ...            ...          ...   \n",
       "247  non vegetarian         15         50          spicy  main course   \n",
       "249      vegetarian         10         20          spicy  main course   \n",
       "250      vegetarian          5         30          sweet      dessert   \n",
       "251      vegetarian         20         60          sweet      dessert   \n",
       "253      vegetarian         20         45          sweet      dessert   \n",
       "\n",
       "              state      region  \n",
       "0       West Bengal        East  \n",
       "1         Rajasthan        West  \n",
       "2            Punjab       North  \n",
       "3         Rajasthan        West  \n",
       "4       West Bengal        East  \n",
       "..              ...         ...  \n",
       "247     West Bengal        East  \n",
       "249     West Bengal        East  \n",
       "250           Assam  North East  \n",
       "251             Goa        West  \n",
       "253  Madhya Pradesh     Central  \n",
       "\n",
       "[181 rows x 9 columns]"
      ]
     },
     "execution_count": 16,
     "metadata": {},
     "output_type": "execute_result"
    }
   ],
   "source": [
    "df_food=df_food[(df_food.flavor_profile!=\"-1\")]\n",
    "df_food=df_food[(df_food.prep_time>0)]\n",
    "df_food=df_food[(df_food.cook_time>0)]\n",
    "df_food=df_food[(df_food.state!=\"-1\")]\n",
    "df_food"
   ]
  },
  {
   "cell_type": "code",
   "execution_count": 17,
   "metadata": {},
   "outputs": [],
   "source": [
    "import jovian"
   ]
  },
  {
   "cell_type": "code",
   "execution_count": 18,
   "metadata": {},
   "outputs": [
    {
     "data": {
      "application/javascript": [
       "window.require && require([\"base/js/namespace\"],function(Jupyter){Jupyter.notebook.save_checkpoint()})"
      ],
      "text/plain": [
       "<IPython.core.display.Javascript object>"
      ]
     },
     "metadata": {},
     "output_type": "display_data"
    },
    {
     "name": "stdout",
     "output_type": "stream",
     "text": [
      "[jovian] Attempting to save notebook..\u001b[0m\n",
      "[jovian] Updating notebook \"narendiran-work/indian-food-analysis\" on https://jovian.ml/\u001b[0m\n",
      "[jovian] Uploading notebook..\u001b[0m\n",
      "[jovian] Capturing environment..\u001b[0m\n",
      "[jovian] Committed successfully! https://jovian.ml/narendiran-work/indian-food-analysis\u001b[0m\n"
     ]
    },
    {
     "data": {
      "text/plain": [
       "'https://jovian.ml/narendiran-work/indian-food-analysis'"
      ]
     },
     "execution_count": 18,
     "metadata": {},
     "output_type": "execute_result"
    }
   ],
   "source": [
    "jovian.commit()"
   ]
  },
  {
   "cell_type": "markdown",
   "metadata": {},
   "source": [
    "Let's begin by importing`matplotlib.pyplot` and `seaborn`."
   ]
  },
  {
   "cell_type": "code",
   "execution_count": 19,
   "metadata": {},
   "outputs": [],
   "source": [
    "import seaborn as sns\n",
    "import matplotlib\n",
    "import matplotlib.pyplot as plt\n",
    "%matplotlib inline\n",
    "\n",
    "sns.set_style('darkgrid')\n",
    "matplotlib.rcParams['font.size'] = 14\n",
    "matplotlib.rcParams['figure.figsize'] = (15, 8)\n",
    "matplotlib.rcParams['figure.facecolor'] = '#00000000'"
   ]
  },
  {
   "cell_type": "markdown",
   "metadata": {},
   "source": [
    "**TODO** - Explore one or more columns by plotting a graph below, and add some explanation about it"
   ]
  },
  {
   "cell_type": "code",
   "execution_count": 20,
   "metadata": {},
   "outputs": [
    {
     "data": {
      "text/plain": [
       "<AxesSubplot:xlabel='diet', ylabel='cook_time'>"
      ]
     },
     "execution_count": 20,
     "metadata": {},
     "output_type": "execute_result"
    },
    {
     "data": {
      "image/png": "[encoded data removed]",
      "text/plain": [
       "<Figure size 1080x576 with 1 Axes>"
      ]
     },
     "metadata": {
      "needs_background": "light"
     },
     "output_type": "display_data"
    }
   ],
   "source": [
    "sns.barplot(df_food.diet,df_food.cook_time,hue=df_food.diet)"
   ]
  },
  {
   "cell_type": "markdown",
   "metadata": {},
   "source": [
    "On average it takes more time to cook Non-Vegetarian dishes than Vegetarian Indian dishes"
   ]
  },
  {
   "cell_type": "markdown",
   "metadata": {},
   "source": [
    "**TODO** - Explore one or more columns by plotting a graph below, and add some explanation about it"
   ]
  },
  {
   "cell_type": "code",
   "execution_count": 21,
   "metadata": {},
   "outputs": [],
   "source": [
    "x=df_food.groupby('flavor_profile').count()['name']\n",
    "x=np.array(x)\n",
    "y=df_food.flavor_profile.unique()\n",
    "y.sort()"
   ]
  },
  {
   "cell_type": "code",
   "execution_count": 22,
   "metadata": {},
   "outputs": [
    {
     "data": {
      "text/plain": [
       "Text(0.5, 0, 'No. of Dishes')"
      ]
     },
     "execution_count": 22,
     "metadata": {},
     "output_type": "execute_result"
    },
    {
     "data": {
      "image/png": "[encoded data removed]",
      "text/plain": [
       "<Figure size 1080x576 with 1 Axes>"
      ]
     },
     "metadata": {
      "needs_background": "light"
     },
     "output_type": "display_data"
    }
   ],
   "source": [
    "sns.barplot(x,y,hue=y)\n",
    "plt.title(\"Taste of India\")\n",
    "plt.xlabel(\"No. of Dishes\")"
   ]
  },
  {
   "cell_type": "markdown",
   "metadata": {},
   "source": [
    "Indian food mainly consist of Sweet and Spicy dishes."
   ]
  },
  {
   "cell_type": "markdown",
   "metadata": {},
   "source": [
    "**TODO** - Explore one or more columns by plotting a graph below, and add some explanation about it"
   ]
  },
  {
   "cell_type": "code",
   "execution_count": 23,
   "metadata": {},
   "outputs": [
    {
     "data": {
      "text/plain": [
       "Text(0.5, 1.0, 'StateWise distribution')"
      ]
     },
     "execution_count": 23,
     "metadata": {},
     "output_type": "execute_result"
    },
    {
     "data": {
      "image/png": "[encoded data removed]",
      "text/plain": [
       "<Figure size 1080x576 with 1 Axes>"
      ]
     },
     "metadata": {
      "needs_background": "light"
     },
     "output_type": "display_data"
    }
   ],
   "source": [
    "plt.plot(df_food.state.unique(),np.array(df_food.groupby('state').count()['name']),\"o--r\")\n",
    "plt.xticks(rotation=\"vertical\")\n",
    "plt.xlabel(\"state\")\n",
    "plt.ylabel(\"No. of Dishes\")\n",
    "plt.title(\"StateWise distribution\")"
   ]
  },
  {
   "cell_type": "markdown",
   "metadata": {},
   "source": [
    "Nagaland and Maharashtra contribute to the most number of dishes in our dataset."
   ]
  },
  {
   "cell_type": "markdown",
   "metadata": {},
   "source": [
    "**TODO** - Explore one or more columns by plotting a graph below, and add some explanation about it"
   ]
  },
  {
   "cell_type": "code",
   "execution_count": 24,
   "metadata": {},
   "outputs": [
    {
     "data": {
      "text/plain": [
       "([<matplotlib.patches.Wedge at 0x7feaccf5b550>,\n",
       "  <matplotlib.patches.Wedge at 0x7feaccf5bc70>,\n",
       "  <matplotlib.patches.Wedge at 0x7feaccee9370>,\n",
       "  <matplotlib.patches.Wedge at 0x7feaccee9a30>],\n",
       " [Text(0.365237151800956, 1.037594247740573, 'dessert'),\n",
       "  Text(-0.7945086309263422, -0.7607601694249966, 'main course'),\n",
       "  Text(0.9635692225319717, -0.5305981091081382, 'snack'),\n",
       "  Text(1.0993372943506643, -0.03817739186692963, 'starter')])"
      ]
     },
     "execution_count": 24,
     "metadata": {},
     "output_type": "execute_result"
    },
    {
     "data": {
      "image/png": "[encoded data removed]",
      "text/plain": [
       "<Figure size 1080x576 with 1 Axes>"
      ]
     },
     "metadata": {},
     "output_type": "display_data"
    }
   ],
   "source": [
    "x=np.array(df_food.groupby('course').count()['name'])\n",
    "y=df_food.course.unique()\n",
    "y.sort()\n",
    "plt.pie(x,labels=y,shadow=True)"
   ]
  },
  {
   "cell_type": "markdown",
   "metadata": {},
   "source": [
    "In India ,Desserts are a main part of people's diet , this can also be the reason why there are main people who suffer from sugar and diabetes."
   ]
  },
  {
   "cell_type": "markdown",
   "metadata": {},
   "source": [
    "**TODO** - Explore one or more columns by plotting a graph below, and add some explanation about it"
   ]
  },
  {
   "cell_type": "code",
   "execution_count": 25,
   "metadata": {},
   "outputs": [
    {
     "data": {
      "text/plain": [
       "<AxesSubplot:xlabel='diet', ylabel='prep_time'>"
      ]
     },
     "execution_count": 25,
     "metadata": {},
     "output_type": "execute_result"
    },
    {
     "data": {
      "image/png": "[encoded data removed]",
      "text/plain": [
       "<Figure size 216x504 with 1 Axes>"
      ]
     },
     "metadata": {
      "needs_background": "light"
     },
     "output_type": "display_data"
    }
   ],
   "source": [
    "matplotlib.rcParams['figure.figsize'] = (3, 7)\n",
    "sns.scatterplot(df_food.diet,df_food.prep_time,hue=df_food.diet)"
   ]
  },
  {
   "cell_type": "markdown",
   "metadata": {},
   "source": [
    "Here,the number of vegetarian and non-vegetarian dishes are not equal but Non-Vegetarian dishes take more time to prepare the ingredient before the cooking even starts."
   ]
  },
  {
   "cell_type": "markdown",
   "metadata": {},
   "source": [
    "Let us save and upload our work to Jovian before continuing"
   ]
  },
  {
   "cell_type": "code",
   "execution_count": 26,
   "metadata": {},
   "outputs": [],
   "source": [
    "import jovian"
   ]
  },
  {
   "cell_type": "code",
   "execution_count": 27,
   "metadata": {},
   "outputs": [
    {
     "data": {
      "application/javascript": [
       "window.require && require([\"base/js/namespace\"],function(Jupyter){Jupyter.notebook.save_checkpoint()})"
      ],
      "text/plain": [
       "<IPython.core.display.Javascript object>"
      ]
     },
     "metadata": {},
     "output_type": "display_data"
    },
    {
     "name": "stdout",
     "output_type": "stream",
     "text": [
      "[jovian] Attempting to save notebook..\u001b[0m\n",
      "[jovian] Updating notebook \"narendiran-work/indian-food-analysis\" on https://jovian.ml/\u001b[0m\n",
      "[jovian] Uploading notebook..\u001b[0m\n",
      "[jovian] Capturing environment..\u001b[0m\n",
      "[jovian] Committed successfully! https://jovian.ml/narendiran-work/indian-food-analysis\u001b[0m\n"
     ]
    },
    {
     "data": {
      "text/plain": [
       "'https://jovian.ml/narendiran-work/indian-food-analysis'"
      ]
     },
     "execution_count": 27,
     "metadata": {},
     "output_type": "execute_result"
    }
   ],
   "source": [
    "jovian.commit()"
   ]
  },
  {
   "cell_type": "markdown",
   "metadata": {},
   "source": [
    "## Asking and Answering Questions\n",
    "\n",
    "TODO - write some explanation here.\n",
    "\n"
   ]
  },
  {
   "cell_type": "markdown",
   "metadata": {},
   "source": [
    "> Instructions (delete this cell)\n",
    ">\n",
    "> - Ask at least 5 interesting questions about your dataset\n",
    "> - Answer the questions either by computing the results using Numpy/Pandas or by plotting graphs using Matplotlib/Seaborn\n",
    "> - Create new columns, merge multiple dataset and perform grouping/aggregation wherever necessary\n",
    "> - Wherever you're using a library function from Pandas/Numpy/Matplotlib etc. explain briefly what it does\n",
    "\n"
   ]
  },
  {
   "cell_type": "markdown",
   "metadata": {},
   "source": [
    "#### Q1: What are the Top 5 dishes that take the most time to cook."
   ]
  },
  {
   "cell_type": "code",
   "execution_count": 28,
   "metadata": {},
   "outputs": [],
   "source": [
    "df=df_food.sort_values(by=\"cook_time\",ascending=False)"
   ]
  },
  {
   "cell_type": "code",
   "execution_count": 29,
   "metadata": {
    "scrolled": true
   },
   "outputs": [
    {
     "data": {
      "text/html": [
       "<div>\n",
       "<style scoped>\n",
       "    .dataframe tbody tr th:only-of-type {\n",
       "        vertical-align: middle;\n",
       "    }\n",
       "\n",
       "    .dataframe tbody tr th {\n",
       "        vertical-align: top;\n",
       "    }\n",
       "\n",
       "    .dataframe thead th {\n",
       "        text-align: right;\n",
       "    }\n",
       "</style>\n",
       "<table border=\"1\" class=\"dataframe\">\n",
       "  <thead>\n",
       "    <tr style=\"text-align: right;\">\n",
       "      <th></th>\n",
       "      <th>name</th>\n",
       "      <th>ingredients</th>\n",
       "      <th>diet</th>\n",
       "      <th>prep_time</th>\n",
       "      <th>cook_time</th>\n",
       "      <th>flavor_profile</th>\n",
       "      <th>course</th>\n",
       "      <th>state</th>\n",
       "      <th>region</th>\n",
       "    </tr>\n",
       "  </thead>\n",
       "  <tbody>\n",
       "    <tr>\n",
       "      <th>62</th>\n",
       "      <td>Shrikhand</td>\n",
       "      <td>Curd, sugar, saffron, cardamom</td>\n",
       "      <td>vegetarian</td>\n",
       "      <td>10</td>\n",
       "      <td>720</td>\n",
       "      <td>sweet</td>\n",
       "      <td>dessert</td>\n",
       "      <td>Maharashtra</td>\n",
       "      <td>West</td>\n",
       "    </tr>\n",
       "    <tr>\n",
       "      <th>27</th>\n",
       "      <td>Malapua</td>\n",
       "      <td>Yoghurt, refined flour, ghee, fennel seeds</td>\n",
       "      <td>vegetarian</td>\n",
       "      <td>10</td>\n",
       "      <td>120</td>\n",
       "      <td>sweet</td>\n",
       "      <td>dessert</td>\n",
       "      <td>Bihar</td>\n",
       "      <td>North</td>\n",
       "    </tr>\n",
       "    <tr>\n",
       "      <th>114</th>\n",
       "      <td>Pindi chana</td>\n",
       "      <td>Fennel, tea bags, tomato, kasuri methi, cinnamon</td>\n",
       "      <td>vegetarian</td>\n",
       "      <td>500</td>\n",
       "      <td>120</td>\n",
       "      <td>spicy</td>\n",
       "      <td>main course</td>\n",
       "      <td>Punjab</td>\n",
       "      <td>North</td>\n",
       "    </tr>\n",
       "    <tr>\n",
       "      <th>75</th>\n",
       "      <td>Biryani</td>\n",
       "      <td>Chicken thighs, basmati rice, star anise, swee...</td>\n",
       "      <td>non vegetarian</td>\n",
       "      <td>30</td>\n",
       "      <td>120</td>\n",
       "      <td>spicy</td>\n",
       "      <td>main course</td>\n",
       "      <td>Telangana</td>\n",
       "      <td>South</td>\n",
       "    </tr>\n",
       "    <tr>\n",
       "      <th>142</th>\n",
       "      <td>Kuzhakkattai</td>\n",
       "      <td>Sesame oil, raw rice, jaggery, grated coconut</td>\n",
       "      <td>vegetarian</td>\n",
       "      <td>10</td>\n",
       "      <td>90</td>\n",
       "      <td>spicy</td>\n",
       "      <td>main course</td>\n",
       "      <td>Tamil Nadu</td>\n",
       "      <td>South</td>\n",
       "    </tr>\n",
       "  </tbody>\n",
       "</table>\n",
       "</div>"
      ],
      "text/plain": [
       "             name                                        ingredients  \\\n",
       "62      Shrikhand                     Curd, sugar, saffron, cardamom   \n",
       "27        Malapua         Yoghurt, refined flour, ghee, fennel seeds   \n",
       "114   Pindi chana   Fennel, tea bags, tomato, kasuri methi, cinnamon   \n",
       "75        Biryani  Chicken thighs, basmati rice, star anise, swee...   \n",
       "142  Kuzhakkattai      Sesame oil, raw rice, jaggery, grated coconut   \n",
       "\n",
       "               diet  prep_time  cook_time flavor_profile       course  \\\n",
       "62       vegetarian         10        720          sweet      dessert   \n",
       "27       vegetarian         10        120          sweet      dessert   \n",
       "114      vegetarian        500        120          spicy  main course   \n",
       "75   non vegetarian         30        120          spicy  main course   \n",
       "142      vegetarian         10         90          spicy  main course   \n",
       "\n",
       "           state region  \n",
       "62   Maharashtra   West  \n",
       "27         Bihar  North  \n",
       "114       Punjab  North  \n",
       "75     Telangana  South  \n",
       "142   Tamil Nadu  South  "
      ]
     },
     "execution_count": 29,
     "metadata": {},
     "output_type": "execute_result"
    }
   ],
   "source": [
    "df.head(5)"
   ]
  },
  {
   "cell_type": "code",
   "execution_count": 30,
   "metadata": {
    "scrolled": true
   },
   "outputs": [
    {
     "data": {
      "text/plain": [
       "62        Shrikhand\n",
       "27          Malapua\n",
       "114     Pindi chana\n",
       "75          Biryani\n",
       "142    Kuzhakkattai\n",
       "Name: name, dtype: object"
      ]
     },
     "execution_count": 30,
     "metadata": {},
     "output_type": "execute_result"
    }
   ],
   "source": [
    "df['name'].head(5)"
   ]
  },
  {
   "cell_type": "markdown",
   "metadata": {},
   "source": [
    "Here we see that delicious sweets take more the to cook."
   ]
  },
  {
   "cell_type": "markdown",
   "metadata": {},
   "source": [
    "#### Q2: What are the Top 5 dishes that take the most time to prepare and cook."
   ]
  },
  {
   "cell_type": "code",
   "execution_count": 31,
   "metadata": {},
   "outputs": [],
   "source": [
    "df=pd.DataFrame()\n",
    "df['name']=df_food.name\n",
    "df['cook time + prep time']=df_food.prep_time + df_food.cook_time\n",
    "df['flavor profile']=df_food.flavor_profile\n",
    "df=df.sort_values(by='cook time + prep time',ascending=False)"
   ]
  },
  {
   "cell_type": "code",
   "execution_count": 32,
   "metadata": {},
   "outputs": [
    {
     "data": {
      "text/html": [
       "<div>\n",
       "<style scoped>\n",
       "    .dataframe tbody tr th:only-of-type {\n",
       "        vertical-align: middle;\n",
       "    }\n",
       "\n",
       "    .dataframe tbody tr th {\n",
       "        vertical-align: top;\n",
       "    }\n",
       "\n",
       "    .dataframe thead th {\n",
       "        text-align: right;\n",
       "    }\n",
       "</style>\n",
       "<table border=\"1\" class=\"dataframe\">\n",
       "  <thead>\n",
       "    <tr style=\"text-align: right;\">\n",
       "      <th></th>\n",
       "      <th>name</th>\n",
       "      <th>cook time + prep time</th>\n",
       "      <th>flavor profile</th>\n",
       "    </tr>\n",
       "  </thead>\n",
       "  <tbody>\n",
       "    <tr>\n",
       "      <th>62</th>\n",
       "      <td>Shrikhand</td>\n",
       "      <td>730</td>\n",
       "      <td>sweet</td>\n",
       "    </tr>\n",
       "    <tr>\n",
       "      <th>114</th>\n",
       "      <td>Pindi chana</td>\n",
       "      <td>620</td>\n",
       "      <td>spicy</td>\n",
       "    </tr>\n",
       "    <tr>\n",
       "      <th>29</th>\n",
       "      <td>Misti doi</td>\n",
       "      <td>510</td>\n",
       "      <td>sweet</td>\n",
       "    </tr>\n",
       "    <tr>\n",
       "      <th>48</th>\n",
       "      <td>Poornalu</td>\n",
       "      <td>300</td>\n",
       "      <td>sweet</td>\n",
       "    </tr>\n",
       "    <tr>\n",
       "      <th>66</th>\n",
       "      <td>Chak Hao Kheer</td>\n",
       "      <td>285</td>\n",
       "      <td>sweet</td>\n",
       "    </tr>\n",
       "  </tbody>\n",
       "</table>\n",
       "</div>"
      ],
      "text/plain": [
       "               name  cook time + prep time flavor profile\n",
       "62        Shrikhand                    730          sweet\n",
       "114     Pindi chana                    620          spicy\n",
       "29        Misti doi                    510          sweet\n",
       "48         Poornalu                    300          sweet\n",
       "66   Chak Hao Kheer                    285          sweet"
      ]
     },
     "execution_count": 32,
     "metadata": {},
     "output_type": "execute_result"
    }
   ],
   "source": [
    "df.head(5)"
   ]
  },
  {
   "cell_type": "markdown",
   "metadata": {},
   "source": [
    "Here also we see that sweets take the most time to prepare and cook"
   ]
  },
  {
   "cell_type": "markdown",
   "metadata": {},
   "source": [
    "#### Q3: What is the list of ingredients used and what the count of the number of ingredients"
   ]
  },
  {
   "cell_type": "code",
   "execution_count": 33,
   "metadata": {
    "scrolled": true
   },
   "outputs": [
    {
     "data": {
      "text/plain": [
       "['Maida flour',\n",
       " ' yogurt',\n",
       " ' oil',\n",
       " ' sugarGram flour',\n",
       " ' ghee',\n",
       " ' sugarCarrots',\n",
       " ' milk',\n",
       " ' sugar',\n",
       " ' ghee',\n",
       " ' cashews',\n",
       " ' raisinsFlour',\n",
       " ' ghee',\n",
       " ' kewra',\n",
       " ' milk',\n",
       " ' clarified butter',\n",
       " ' sugar',\n",
       " ' almonds',\n",
       " ' pistachio',\n",
       " ' saffron',\n",
       " ' green cardamomMilk powder',\n",
       " ' plain flour',\n",
       " ' baking powder',\n",
       " ' ghee',\n",
       " ' milk',\n",
       " ' sugar',\n",
       " ' water',\n",
       " ' rose waterSugar syrup',\n",
       " ' lentil flourMaida',\n",
       " ' corn flour',\n",
       " ' baking soda',\n",
       " ' vinegar',\n",
       " ' curd',\n",
       " ' water',\n",
       " ' turmeric',\n",
       " ' saffron',\n",
       " ' cardamomMilk',\n",
       " ' cottage cheese',\n",
       " ' sugarYogurt',\n",
       " ' milk',\n",
       " ' nuts',\n",
       " ' sugarFirm white pumpkin',\n",
       " ' sugar',\n",
       " ' kitchen lime',\n",
       " ' alum powderRice',\n",
       " ' sugar',\n",
       " ' nutsCondensed milk',\n",
       " ' sugar',\n",
       " ' spices',\n",
       " ' nutsSemolina',\n",
       " ' ghee',\n",
       " ' nuts',\n",
       " ' milkKhoa',\n",
       " ' coconut',\n",
       " ' molu leafCorn flour',\n",
       " ' ghee',\n",
       " ' dry fruitsChhena',\n",
       " ' sugar',\n",
       " ' gheeSugar',\n",
       " ' chenna cheeseFlour',\n",
       " ' cream',\n",
       " ' sugar',\n",
       " ' saffron',\n",
       " ' lemon juice',\n",
       " ' coconut flakesChenna',\n",
       " ' condensed milk',\n",
       " ' sugar',\n",
       " ' saffron',\n",
       " ' cardamomChhena',\n",
       " ' sugar',\n",
       " ' gheeFlour',\n",
       " ' fried milk power',\n",
       " ' sugar syrupYoghurt',\n",
       " ' refined flour',\n",
       " ' ghee',\n",
       " ' fennel seedsBesan flour',\n",
       " ' sugar',\n",
       " ' gheeMilk',\n",
       " ' jaggeryChhena',\n",
       " ' sugar',\n",
       " ' ghee',\n",
       " ' flourRice flour',\n",
       " ' wheat flourChenna',\n",
       " ' sweetened milkChhena',\n",
       " ' reduced milk',\n",
       " ' pistachioChhena',\n",
       " ' sugar',\n",
       " ' cardamomMilk',\n",
       " ' sugar',\n",
       " ' saffron',\n",
       " ' cardamomRice flour',\n",
       " ' jaggery',\n",
       " ' ghee',\n",
       " ' vegetable oil',\n",
       " ' elachiRice flour',\n",
       " ' jaggery',\n",
       " ' gheeBesan',\n",
       " ' jaggery',\n",
       " ' cardamom powder',\n",
       " ' ghee',\n",
       " ' cashews and raisins',\n",
       " ' jaggery syrup',\n",
       " ' sugarPeanuts',\n",
       " ' jaggeryMilk',\n",
       " ' Sugar',\n",
       " ' Dharwadi buffalo milkLoaf bread',\n",
       " ' milkRice flour',\n",
       " ' sugar',\n",
       " ' salt',\n",
       " ' ghee',\n",
       " ' semolinaWheat flour',\n",
       " ' sugarBlack lentils',\n",
       " ' riceBesan flour',\n",
       " ' semolina',\n",
       " ' mung bean',\n",
       " ' jaggery',\n",
       " ' coconut',\n",
       " ' skimmed milk powder',\n",
       " ' sugar',\n",
       " ' gheeMaida flour',\n",
       " ' turmeric',\n",
       " ' coconut',\n",
       " ' chickpeas',\n",
       " ' jaggery',\n",
       " ' ghee',\n",
       " ' cardamomRice flour',\n",
       " ' milkChana dal',\n",
       " ' jaggeryRice',\n",
       " ' jaggery',\n",
       " ' cashews',\n",
       " ' gheeRice flour',\n",
       " ' powdered sugar',\n",
       " ' gheeApricots',\n",
       " ' sugar syrupVermicelli pudding',\n",
       " ' milkRice flour',\n",
       " ' banana',\n",
       " ' jaggery',\n",
       " ' coconutRice flour',\n",
       " ' jaggery',\n",
       " ' coconutRice flour',\n",
       " ' jaggery',\n",
       " ' khus-khus seedsSugar',\n",
       " ' milk',\n",
       " ' nutsCucumber',\n",
       " ' ravaMilk',\n",
       " ' rice',\n",
       " ' sugar',\n",
       " ' dry fruitsSemolina',\n",
       " ' sugarRice flour',\n",
       " ' coconut',\n",
       " ' jaggery Sugar',\n",
       " ' ghee',\n",
       " ' maida flour',\n",
       " ' semolinaCurd',\n",
       " ' sugar',\n",
       " ' saffron',\n",
       " ' cardamomMaida',\n",
       " ' sugar',\n",
       " ' gheeFish',\n",
       " ' potol',\n",
       " ' tomato',\n",
       " ' chillies',\n",
       " ' ginger',\n",
       " ' garlicRice',\n",
       " ' milk',\n",
       " ' sugar',\n",
       " ' cardamomRice',\n",
       " ' axone',\n",
       " ' salt',\n",
       " ' water',\n",
       " ' chillies',\n",
       " ' porkCauliflower',\n",
       " ' potato',\n",
       " ' garam masala',\n",
       " ' turmeric',\n",
       " ' curry leavesRice flour',\n",
       " ' potato',\n",
       " ' bread crumbs',\n",
       " ' garam masala',\n",
       " ' saltPotato',\n",
       " ' peas',\n",
       " ' chillies',\n",
       " ' ginger',\n",
       " ' garam masala',\n",
       " ' garlicPotato',\n",
       " ' fenugreek leaves',\n",
       " ' chillies',\n",
       " ' salt',\n",
       " ' oilPotato',\n",
       " ' shimla mirch',\n",
       " ' garam masala',\n",
       " ' amchur powder',\n",
       " ' saltChole',\n",
       " ' rava',\n",
       " ' yogurt',\n",
       " ' plain flour',\n",
       " ' baking sodaLadies finger',\n",
       " ' garam masala',\n",
       " ' kasuri methi',\n",
       " ' tomatoes',\n",
       " ' chili powderChicken thighs',\n",
       " ' basmati rice',\n",
       " ' star anise',\n",
       " ' sweet',\n",
       " ' green chilliesChicken',\n",
       " ' greek yogurt',\n",
       " ' cream',\n",
       " ' garam masala powder',\n",
       " ' cashew nuts',\n",
       " ' butterChickpeas',\n",
       " ' tomato paste',\n",
       " ' garam masala',\n",
       " ' ginger',\n",
       " ' red onion',\n",
       " ' avocado oilChicken',\n",
       " ' dahi',\n",
       " ' sesame seeds',\n",
       " ' garam masala powder',\n",
       " ' cashew nuts',\n",
       " ' saffronNaan bread',\n",
       " ' tomato sauce',\n",
       " ' skinless chicken breasts',\n",
       " ' heavy cream',\n",
       " ' garam masalaChicken',\n",
       " ' whole wheat bread',\n",
       " ' rice flour',\n",
       " ' garam masala powder',\n",
       " ' whole eggChole',\n",
       " ' bhatura',\n",
       " ' garam masala',\n",
       " ' bay leaf',\n",
       " ' cinnamon stickMoong dal',\n",
       " ' masoor dal',\n",
       " ' chana dal',\n",
       " ' wheat flour',\n",
       " ' almondMoong dal',\n",
       " ' garam masala powder',\n",
       " ' garlic',\n",
       " ' green chilli',\n",
       " ' all purpose flourRed kidney beans',\n",
       " ' urad dal',\n",
       " ' cream',\n",
       " ' garam masala',\n",
       " ' chili powderPigeon peas',\n",
       " ' garam masala',\n",
       " ' ginger',\n",
       " ' red onion',\n",
       " ' kasuri methiBaby potatoes',\n",
       " ' garam masala',\n",
       " ' cashew nuts',\n",
       " ' kasuri methi',\n",
       " ' tomatoesBeaten rice flakes',\n",
       " ' potato',\n",
       " ' curry leaves',\n",
       " ' green chilies',\n",
       " ' lemon juiceChana dal',\n",
       " ' whole wheat flour',\n",
       " ' arhar dal',\n",
       " ' white urad dal',\n",
       " ' garam masala powderMoong dal',\n",
       " ' rava',\n",
       " ' garam masala',\n",
       " ' dough',\n",
       " ' fennel seedsCottage cheese',\n",
       " ' bell peppers',\n",
       " ' gravy',\n",
       " ' garam masala',\n",
       " ' cashew nutsBesan',\n",
       " ' garam masala powder',\n",
       " ' gram flour',\n",
       " ' ginger',\n",
       " ' curry leavesBitter gourd',\n",
       " ' fennel',\n",
       " ' garam masala powder',\n",
       " ' chili powder',\n",
       " ' amchur powderPaneer',\n",
       " ' potato',\n",
       " ' cream',\n",
       " ' corn flour',\n",
       " ' garam masalaBottle gourd',\n",
       " ' garam masala powder',\n",
       " ' gram flour',\n",
       " ' ginger',\n",
       " ' chilliesWheat flour',\n",
       " ' roasted gram flour',\n",
       " ' tomato',\n",
       " ' nigella seeds',\n",
       " ' chilliPalak',\n",
       " ' makki atta',\n",
       " ' mustard green',\n",
       " ' garam masala',\n",
       " ' gingerWhole wheat flour',\n",
       " ' chickpea flour',\n",
       " ' green chiliesMushroom',\n",
       " ' malai',\n",
       " ' garam masala',\n",
       " ' ginger',\n",
       " ' capsicumCanned coconut milk',\n",
       " ' frozen green peas',\n",
       " ' wild mushrooms',\n",
       " ' garam masala',\n",
       " ' tomatoesGreen beans',\n",
       " ' potatoes',\n",
       " ' khus khus',\n",
       " ' low fat',\n",
       " ' garam masala powderCottage cheese',\n",
       " ' palak',\n",
       " ' cream',\n",
       " ' garam masala',\n",
       " ' butterPaneer',\n",
       " ' whipping cream',\n",
       " ' garam masala',\n",
       " ' cashew nuts',\n",
       " ' butterPaneer',\n",
       " ' greek yogurt',\n",
       " ' tandoori masala',\n",
       " ' cream',\n",
       " ' bell pepperWhole wheat flour',\n",
       " ' musk melon seeds',\n",
       " ' poppy seeds',\n",
       " ' edible gum',\n",
       " ' semolinaWheat flour',\n",
       " ' butter',\n",
       " ' potato',\n",
       " ' corianderArbi ke patte',\n",
       " ' sesame seeds',\n",
       " ' gur',\n",
       " ' bengal gram flour',\n",
       " ' imliFennel',\n",
       " ' tea bags',\n",
       " ' tomato',\n",
       " ' kasuri methi',\n",
       " ' cinnamonSattu',\n",
       " ' atta',\n",
       " ' dough',\n",
       " ' filling',\n",
       " ' mustard oilCottage cheese',\n",
       " ' malai',\n",
       " ' garam masala',\n",
       " ' ginger',\n",
       " ' tomatoRose water',\n",
       " ' milk',\n",
       " ' white bread slices',\n",
       " ' saffron',\n",
       " ' almondsBaby corn',\n",
       " ' french beans',\n",
       " ' garam masala',\n",
       " ' ginger',\n",
       " ' carrotGreek yogurt',\n",
       " ' garam masala',\n",
       " ' kasuri methi',\n",
       " ' marinade',\n",
       " ' mustard oilChickpea flour',\n",
       " ' biryani masala powder',\n",
       " ' yogurt',\n",
       " ' fish fillets',\n",
       " ' green bell pepperWhole wheat flour',\n",
       " ' arhar dal',\n",
       " ' ginger',\n",
       " ' kala jeera',\n",
       " ' green chilliRaw banana',\n",
       " ' elephant foot yam',\n",
       " ' long beans',\n",
       " ' tindora',\n",
       " ' urad dalSplit pigeon peas',\n",
       " ' chana dal',\n",
       " ' urad dal',\n",
       " ' green peas',\n",
       " ' french beansChana dal',\n",
       " ' urad dal',\n",
       " ' fresh coconut',\n",
       " ' sesame seeds',\n",
       " ' curry leavesRice flour',\n",
       " ' hot water',\n",
       " ' grated coconutMoong dal',\n",
       " ' chana dal',\n",
       " ' spinach',\n",
       " ' urad dal',\n",
       " ' coconut oilGreens',\n",
       " ' tomato',\n",
       " ' mustard seeds',\n",
       " ' fenugreek seedsAmaranth leaves',\n",
       " ' split urad dal',\n",
       " ' mustard seeds',\n",
       " ' grated coconut',\n",
       " ' red chiliBeef',\n",
       " ' coconut',\n",
       " ' garam masala',\n",
       " ' curry leaves',\n",
       " ' green chilies',\n",
       " ' chili powderChana dal',\n",
       " ' urad dal',\n",
       " ' potato',\n",
       " ' beans',\n",
       " ' peasMoong dal',\n",
       " ' chana dal',\n",
       " ' cabbage',\n",
       " ' tamarind',\n",
       " ' curry leavesMoong dal',\n",
       " ' cucumber',\n",
       " ' curry leaves',\n",
       " ' green chili',\n",
       " ' lemon juiceChana dal',\n",
       " ' urad dal',\n",
       " ' gooseberry',\n",
       " ' raw rice',\n",
       " ' curry leavesSesame oil',\n",
       " ' raw rice',\n",
       " ' jaggery',\n",
       " ' grated coconutPearl onions',\n",
       " ' urad dal',\n",
       " ' drumsticks',\n",
       " ' tomato',\n",
       " ' curry leavesLentils',\n",
       " ' black pepper',\n",
       " ' vegetable oilGreen moong beans',\n",
       " ' rice flourMeat curry powder',\n",
       " ' chicken chunks',\n",
       " ' ginger',\n",
       " ' tomato',\n",
       " ' cinnamonKala masala',\n",
       " ' arhar dal',\n",
       " ' curry leaves',\n",
       " ' mustard seeds',\n",
       " ' hot waterGram flour',\n",
       " ' mustard',\n",
       " ' garlic',\n",
       " ' turmeric',\n",
       " ' red chilliUrad dal',\n",
       " ' potatoes',\n",
       " ' wheat flour',\n",
       " ' soojiWheat flour',\n",
       " ' pearl millet flour',\n",
       " ' hot waterCondensed milk',\n",
       " ' mawa',\n",
       " ' desiccated coconut',\n",
       " ' almonds',\n",
       " ' cashewsRice flour',\n",
       " ' sesame',\n",
       " ' plain flour',\n",
       " ' turmeric',\n",
       " ' red chilliCitric acid',\n",
       " ' fry',\n",
       " ' raisins',\n",
       " ' sugar',\n",
       " ' chana daalUrad dal',\n",
       " ' bengal gram flour',\n",
       " ' dried mango',\n",
       " ' baking soda',\n",
       " ' black saltWhole wheat flour',\n",
       " ' dal',\n",
       " ' kokum',\n",
       " ' gur',\n",
       " ' bengal gram flourPav',\n",
       " ' aloo',\n",
       " ' peanut',\n",
       " ' pomegranate',\n",
       " ' star aniseRava',\n",
       " ' coconut',\n",
       " ' gram flour',\n",
       " ' mustard',\n",
       " ' sesameBottle gourd',\n",
       " ' green',\n",
       " ' raisins',\n",
       " ' sugar',\n",
       " ' clarified butterYogurt',\n",
       " ' besan',\n",
       " ' sauce',\n",
       " ' garam masala powder',\n",
       " ' gram flourWheat flour',\n",
       " ' jaggery',\n",
       " ' clarified butter',\n",
       " ' sliced almondsBottle gourd',\n",
       " ' chana dal',\n",
       " ' cabbage',\n",
       " ' urad dal',\n",
       " ' toor dalGreen chilies',\n",
       " ' lemon juice',\n",
       " ' chili powder',\n",
       " ' boiled potatoesMango',\n",
       " ' sugarWhole wheat flour',\n",
       " ' low fat',\n",
       " ' bengal gram flourGreen chili paste',\n",
       " ' white sesame seeds',\n",
       " ' gram flour',\n",
       " ' curry leaves',\n",
       " ' green chiliRice flour',\n",
       " ' urad dal',\n",
       " ' wheat flour',\n",
       " ' gram flour',\n",
       " ' turmericCinnamon',\n",
       " ' jaggery',\n",
       " ' clarified butter',\n",
       " ' dry roastedCucumber',\n",
       " ' carrot',\n",
       " ' tomatoes',\n",
       " ' cilantroRava',\n",
       " ' gram flour',\n",
       " ' lemon juice',\n",
       " ' turmeric',\n",
       " ' fenugreek leavesRose water',\n",
       " ' pistachio',\n",
       " ' badam',\n",
       " ' bengal gram flour',\n",
       " ' saffronBottle gourd',\n",
       " ' whole wheat flour',\n",
       " ' rava',\n",
       " ' sesame seeds',\n",
       " ' bengal gram flourArbi ke patte',\n",
       " ' sesame seeds',\n",
       " ' gur',\n",
       " ' bengal gram flour',\n",
       " ' imliPav bhaji masala',\n",
       " ' gobi',\n",
       " ' potatoes',\n",
       " ' green peas',\n",
       " ' dinner rollsAloo',\n",
       " ' urad dal',\n",
       " ' mustard',\n",
       " ' ginger',\n",
       " ' curry leavesRaw peanuts',\n",
       " ' sabudana',\n",
       " ' lemon',\n",
       " ' avocado oil',\n",
       " ' curry leaves',\n",
       " ' green chiliKhaman',\n",
       " ' pomegranate',\n",
       " ' sev',\n",
       " ' powdered sugar',\n",
       " ' garlicSev',\n",
       " ' ginger',\n",
       " ' tomato',\n",
       " ' sugarWheat flour',\n",
       " ' baking soda',\n",
       " ' all purpose flour',\n",
       " ' black pepper',\n",
       " ' sunflower oilWhole wheat flour',\n",
       " ' gur',\n",
       " ' clarified butterRice flakes',\n",
       " ' yogurt',\n",
       " ' raw rice',\n",
       " ' jaggery',\n",
       " ' grated coconutWhole wheat flour',\n",
       " ' rice flour',\n",
       " ' pearl millet flour',\n",
       " ' sorghum flour',\n",
       " ' sesame seedsSweet potato',\n",
       " ' surti papdi',\n",
       " ' baby potatoes',\n",
       " ' valor papdi',\n",
       " ' green peasGobi',\n",
       " ' potato',\n",
       " ' beans',\n",
       " ' khus khus',\n",
       " ' coconutChicken',\n",
       " ' coconut oil',\n",
       " ' wine vinegar',\n",
       " ' ginger',\n",
       " ' green',\n",
       " ' cinnamonGreen garlic chutney',\n",
       " ' fresh green peas',\n",
       " ' ginger',\n",
       " ' lemon juice',\n",
       " ' plain flourRice flour',\n",
       " ' sesame seeds',\n",
       " ' baking soda',\n",
       " ' peanut oilChickpea flour',\n",
       " ' methi leaves',\n",
       " ' jowar flour',\n",
       " ' wheat flourYogurt',\n",
       " ' fresh coconut',\n",
       " ' sesame seeds',\n",
       " ' semolina',\n",
       " ' gram flourRidge gourd',\n",
       " ' baking soda',\n",
       " ' sugar',\n",
       " ' grated coconut',\n",
       " ' peasWhole wheat flour',\n",
       " ' khus khus',\n",
       " ' sesame seeds',\n",
       " ' dry coconut',\n",
       " ' gurSticky rice',\n",
       " ' rice flour',\n",
       " ' jaggery',\n",
       " ' orange rindPotatoes',\n",
       " ' mustard oil',\n",
       " ' fish',\n",
       " ' green chilliesRidge gourd',\n",
       " ' fish',\n",
       " ' lemon',\n",
       " ' tomatoes',\n",
       " ' mustard oilCoconut milk',\n",
       " ' lobster',\n",
       " ' fresh green chilli',\n",
       " ' ginger',\n",
       " ' red onionBaking soda',\n",
       " ' clarified butter',\n",
       " ' oil',\n",
       " ' all purpose flourLamb',\n",
       " ' garam masala powder',\n",
       " ' curd',\n",
       " ' turmeric',\n",
       " ' bay leafChana dal',\n",
       " ' fresh coconut',\n",
       " ' ginger',\n",
       " ' cinnamon',\n",
       " ' raisinsCoconut milk',\n",
       " ' prawns',\n",
       " ' garlic',\n",
       " ' turmeric',\n",
       " ' sugarGreen beans',\n",
       " ' bitter gourd',\n",
       " ' ridge gourd',\n",
       " ' banana',\n",
       " ' brinjalGlutinous rice',\n",
       " ' black sesame seeds',\n",
       " ' gurCoconut milk',\n",
       " ' egg yolks',\n",
       " ' clarified butter',\n",
       " ' all purpose flourMilk powder',\n",
       " ' dry fruits',\n",
       " ' arrowroot powder',\n",
       " ' all purpose flour']"
      ]
     },
     "execution_count": 33,
     "metadata": {},
     "output_type": "execute_result"
    }
   ],
   "source": [
    "ing=pd.DataFrame()\n",
    "ing=df_food['ingredients']\n",
    "ing_new=pd.DataFrame()\n",
    "ing_new['ings']=['']\n",
    "for i in ing:\n",
    "    ing_new['ings']+=i\n",
    "ingredients=ing_new['ings']\n",
    "ingredients=ingredients.unique()\n",
    "ingredients=ingredients[0].split(\",\")\n",
    "ingredients"
   ]
  },
  {
   "cell_type": "code",
   "execution_count": 34,
   "metadata": {},
   "outputs": [
    {
     "data": {
      "text/plain": [
       "622"
      ]
     },
     "execution_count": 34,
     "metadata": {},
     "output_type": "execute_result"
    }
   ],
   "source": [
    "len(ingredients)"
   ]
  },
  {
   "cell_type": "markdown",
   "metadata": {},
   "source": [
    "Indian cuisine has various ingredients and is known for the variety of Spices"
   ]
  },
  {
   "cell_type": "markdown",
   "metadata": {},
   "source": [
    "#### Q4: Show the list of Non-vegetarian dishes and the ratio of veg and non-veg dishes to the total no. of dishes"
   ]
  },
  {
   "cell_type": "code",
   "execution_count": 35,
   "metadata": {},
   "outputs": [
    {
     "name": "stdout",
     "output_type": "stream",
     "text": [
      "64               Maach Jhol\n",
      "67                    Galho\n",
      "75                  Biryani\n",
      "76           Butter chicken\n",
      "79           Chicken razala\n",
      "80     Chicken Tikka masala\n",
      "81            Chicken Tikka\n",
      "122        Tandoori Chicken\n",
      "123     Tandoori Fish Tikka\n",
      "137                Beef Fry\n",
      "163         Chicken Varuval\n",
      "211                Vindaloo\n",
      "225              Alu Pitika\n",
      "226             Masor tenga\n",
      "232     Chingri malai curry\n",
      "235                Haq Maas\n",
      "247       Prawn malai curry\n",
      "Name: name, dtype: object\n"
     ]
    },
    {
     "data": {
      "text/plain": [
       "17"
      ]
     },
     "execution_count": 35,
     "metadata": {},
     "output_type": "execute_result"
    }
   ],
   "source": [
    "df_diet=pd.DataFrame()\n",
    "df_diet=df_food[['name','diet']]\n",
    "print((df_diet[(df_diet.diet==\"non vegetarian\")])['name'])\n",
    "len(df_diet[(df_diet.diet==\"non vegetarian\")])"
   ]
  },
  {
   "cell_type": "markdown",
   "metadata": {},
   "source": [
    "In our dataset we have a very little number of non vegetarian dishes , we can say that this dataset is little biased to only vegetarian dishes"
   ]
  },
  {
   "cell_type": "markdown",
   "metadata": {},
   "source": [
    "#### Q5: Find out the Dishes from each region and plot a pie chart to analysis the Data."
   ]
  },
  {
   "cell_type": "code",
   "execution_count": 36,
   "metadata": {},
   "outputs": [
    {
     "name": "stdout",
     "output_type": "stream",
     "text": [
      "region\n",
      "Central        3\n",
      "East          25\n",
      "North         45\n",
      "North East    10\n",
      "South         37\n",
      "West          60\n",
      "Name: diet, dtype: int64\n"
     ]
    },
    {
     "data": {
      "text/plain": [
       "([<matplotlib.patches.Wedge at 0x7feaccf27970>,\n",
       "  <matplotlib.patches.Wedge at 0x7feaccfaba00>,\n",
       "  <matplotlib.patches.Wedge at 0x7feacce70f70>,\n",
       "  <matplotlib.patches.Wedge at 0x7feacce70d30>,\n",
       "  <matplotlib.patches.Wedge at 0x7feacceb2a60>,\n",
       "  <matplotlib.patches.Wedge at 0x7feaccf2d490>],\n",
       " [Text(1.0984924880728215, 0.05756955486697999, 'Central'),\n",
       "  Text(0.9428840158906806, 0.5665419071682722, 'East'),\n",
       "  Text(-0.20988994574363815, 1.079789891912187, 'North'),\n",
       "  Text(-1.0049000250498075, 0.4474102587725236, 'North East'),\n",
       "  Text(-1.012555313870509, -0.4298043000629415, 'South'),\n",
       "  Text(0.5500000929077737, -0.9526278905225484, 'West')])"
      ]
     },
     "execution_count": 36,
     "metadata": {},
     "output_type": "execute_result"
    },
    {
     "data": {
      "image/png": "[encoded data removed]",
      "text/plain": [
       "<Figure size 1080x576 with 1 Axes>"
      ]
     },
     "metadata": {},
     "output_type": "display_data"
    }
   ],
   "source": [
    "matplotlib.rcParams['figure.figsize'] = (15, 8)\n",
    "n=df_food.groupby(df_food.region)['diet'].count()\n",
    "print(n)\n",
    "plt.pie(np.array(n),labels=n.index)"
   ]
  },
  {
   "cell_type": "markdown",
   "metadata": {},
   "source": []
  },
  {
   "cell_type": "markdown",
   "metadata": {},
   "source": [
    "Let us save and upload our work to Jovian before continuing."
   ]
  },
  {
   "cell_type": "code",
   "execution_count": 37,
   "metadata": {},
   "outputs": [],
   "source": [
    "import jovian"
   ]
  },
  {
   "cell_type": "code",
   "execution_count": 38,
   "metadata": {},
   "outputs": [
    {
     "data": {
      "application/javascript": [
       "window.require && require([\"base/js/namespace\"],function(Jupyter){Jupyter.notebook.save_checkpoint()})"
      ],
      "text/plain": [
       "<IPython.core.display.Javascript object>"
      ]
     },
     "metadata": {},
     "output_type": "display_data"
    },
    {
     "name": "stdout",
     "output_type": "stream",
     "text": [
      "[jovian] Attempting to save notebook..\u001b[0m\n",
      "[jovian] Updating notebook \"narendiran-work/indian-food-analysis\" on https://jovian.ml/\u001b[0m\n",
      "[jovian] Uploading notebook..\u001b[0m\n",
      "[jovian] Capturing environment..\u001b[0m\n",
      "[jovian] Committed successfully! https://jovian.ml/narendiran-work/indian-food-analysis\u001b[0m\n"
     ]
    },
    {
     "data": {
      "text/plain": [
       "'https://jovian.ml/narendiran-work/indian-food-analysis'"
      ]
     },
     "execution_count": 38,
     "metadata": {},
     "output_type": "execute_result"
    }
   ],
   "source": [
    "jovian.commit()"
   ]
  },
  {
   "cell_type": "markdown",
   "metadata": {},
   "source": [
    "## Inferences and Conclusion\n",
    "\n",
    "From the above analysis we can learn many things about Indian food.\n",
    "Sweets are a major part of Indian diet.\n",
    "Many Non-Vegetarian Dishes are not included in the dataset which makes it hard to analysis.\n",
    "Indian food is made up of a variety of spieces which are not found in many countries.\n",
    "Some Indian dishes take a lot of preparation before they are even cooked.\n",
    "Over different regions we find various types of food.\n",
    "\n",
    "\n",
    "Seaborn, Mathplotlib , Numpy , Pandas are very useful to analysis data\n",
    "Jovian.ml has made very informative video that are very useful"
   ]
  },
  {
   "cell_type": "code",
   "execution_count": 43,
   "metadata": {},
   "outputs": [],
   "source": [
    "import jovian"
   ]
  },
  {
   "cell_type": "code",
   "execution_count": 44,
   "metadata": {},
   "outputs": [
    {
     "data": {
      "application/javascript": [
       "window.require && require([\"base/js/namespace\"],function(Jupyter){Jupyter.notebook.save_checkpoint()})"
      ],
      "text/plain": [
       "<IPython.core.display.Javascript object>"
      ]
     },
     "metadata": {},
     "output_type": "display_data"
    },
    {
     "name": "stdout",
     "output_type": "stream",
     "text": [
      "[jovian] Attempting to save notebook..\u001b[0m\n",
      "[jovian] Updating notebook \"narendiran-work/indian-food-analysis\" on https://jovian.ml/\u001b[0m\n",
      "[jovian] Uploading notebook..\u001b[0m\n",
      "[jovian] Capturing environment..\u001b[0m\n",
      "[jovian] Committed successfully! https://jovian.ml/narendiran-work/indian-food-analysis\u001b[0m\n"
     ]
    },
    {
     "data": {
      "text/plain": [
       "'https://jovian.ml/narendiran-work/indian-food-analysis'"
      ]
     },
     "execution_count": 44,
     "metadata": {},
     "output_type": "execute_result"
    }
   ],
   "source": [
    "jovian.commit()"
   ]
  },
  {
   "cell_type": "markdown",
   "metadata": {},
   "source": [
    "## References and Future Work\n",
    "\n",
    "In the future we can add more Non-Vegetarian dishes and add more information about ingredients.\n",
    "we can also add the calories in each dish and make analysis on that data."
   ]
  },
  {
   "cell_type": "code",
   "execution_count": 45,
   "metadata": {},
   "outputs": [],
   "source": [
    "import jovian"
   ]
  },
  {
   "cell_type": "code",
   "execution_count": null,
   "metadata": {
    "scrolled": true
   },
   "outputs": [
    {
     "data": {
      "application/javascript": [
       "window.require && require([\"base/js/namespace\"],function(Jupyter){Jupyter.notebook.save_checkpoint()})"
      ],
      "text/plain": [
       "<IPython.core.display.Javascript object>"
      ]
     },
     "metadata": {},
     "output_type": "display_data"
    },
    {
     "name": "stdout",
     "output_type": "stream",
     "text": [
      "[jovian] Attempting to save notebook..\u001b[0m\n"
     ]
    }
   ],
   "source": [
    "jovian.commit()"
   ]
  },
  {
   "cell_type": "code",
   "execution_count": null,
   "metadata": {},
   "outputs": [],
   "source": []
  }
 ],
 "metadata": {
  "language_info": {
   "codemirror_mode": {
    "name": "ipython",
    "version": 3
   },
   "file_extension": ".py",
   "mimetype": "text/x-python",
   "name": "python",
   "nbconvert_exporter": "python",
   "pygments_lexer": "ipython3",
   "version": "3.8.5"
  }
 },
 "nbformat": 4,
 "nbformat_minor": 4
}